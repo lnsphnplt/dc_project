{
 "cells": [
  {
   "cell_type": "markdown",
   "metadata": {},
   "source": [
    "# Data Import"
   ]
  },
  {
   "cell_type": "code",
   "execution_count": 59,
   "metadata": {},
   "outputs": [
    {
     "data": {
      "text/plain": [
       "(11521, 218)"
      ]
     },
     "execution_count": 59,
     "metadata": {},
     "output_type": "execute_result"
    }
   ],
   "source": [
    "import sqlite3\n",
    "import pandas as pd\n",
    "import warnings\n",
    "warnings.filterwarnings(\"ignore\")\n",
    "\n",
    "if os.getenv(\"SNAKEMAKE_EXECUTION\"):\n",
    "    # Adjust paths for Snakemake execution\n",
    "    output = \"./05-logistic_regression/roc.pdf\"\n",
    "    db_path = \"./unified-final.db\"\n",
    "else:\n",
    "    # Adjust paths for local execution\n",
    "    output = \"roc.pdf\"\n",
    "    db_path = \"../unified-final.db\"\n",
    "\n",
    "\n",
    "\n",
    "con = sqlite3.connect(db_path)\n",
    "cur = con.cursor()\n",
    "\n",
    "df = pd.read_sql_query(\"SELECT * FROM prod_desc\", con)\n",
    "df['AB'] = df['AB'].apply(lambda x: int.from_bytes(x, \"little\"))\n",
    "df =  df.drop(columns=['level_0','index'])\n",
    "df.shape"
   ]
  },
  {
   "cell_type": "markdown",
   "metadata": {},
   "source": [
    "# Feature  Selection\n",
    "\n",
    "seperate target variable"
   ]
  },
  {
   "cell_type": "code",
   "execution_count": 60,
   "metadata": {},
   "outputs": [
    {
     "data": {
      "text/plain": [
       "(11521, 217)"
      ]
     },
     "execution_count": 60,
     "metadata": {},
     "output_type": "execute_result"
    }
   ],
   "source": [
    "y = df['AB']\n",
    "df = df.drop(columns='AB')\n",
    "df.shape"
   ]
  },
  {
   "cell_type": "markdown",
   "metadata": {},
   "source": [
    "Drop non numeric columns"
   ]
  },
  {
   "cell_type": "code",
   "execution_count": 61,
   "metadata": {},
   "outputs": [
    {
     "data": {
      "text/plain": [
       "(11521, 210)"
      ]
     },
     "execution_count": 61,
     "metadata": {},
     "output_type": "execute_result"
    }
   ],
   "source": [
    "df = df.select_dtypes(include=[float, int])\n",
    "df.shape"
   ]
  },
  {
   "cell_type": "markdown",
   "metadata": {},
   "source": [
    "Drop features with 0 variance"
   ]
  },
  {
   "cell_type": "code",
   "execution_count": 62,
   "metadata": {},
   "outputs": [
    {
     "data": {
      "text/plain": [
       "(11521, 141)"
      ]
     },
     "execution_count": 62,
     "metadata": {},
     "output_type": "execute_result"
    }
   ],
   "source": [
    "df = df.loc[:, df.var() > 0]\n",
    "df.shape"
   ]
  },
  {
   "cell_type": "markdown",
   "metadata": {},
   "source": [
    "Drop correlated features. (This would otherwise make problems with regularisation and convergence of regression)"
   ]
  },
  {
   "cell_type": "code",
   "execution_count": 63,
   "metadata": {},
   "outputs": [
    {
     "data": {
      "text/plain": [
       "(11521, 31)"
      ]
     },
     "execution_count": 63,
     "metadata": {},
     "output_type": "execute_result"
    }
   ],
   "source": [
    "# copy paste from https://stackoverflow.com/questions/29294983/how-to-calculate-correlation-between-all-columns-and-remove-highly-correlated-on\n",
    "import numpy as np\n",
    "\n",
    "# Create correlation matrix\n",
    "corr_matrix = df.corr().abs()\n",
    "\n",
    "# Select upper triangle of correlation matrix\n",
    "upper = corr_matrix.where(np.triu(np.ones(corr_matrix.shape), k=1).astype(bool))\n",
    "\n",
    "# Find features with correlation greater than 0.95\n",
    "to_drop = [column for column in upper.columns if any(upper[column] > 0.8)]\n",
    "\n",
    "# Drop features \n",
    "df.drop(to_drop, axis=1, inplace=True)\n",
    "df.shape"
   ]
  },
  {
   "cell_type": "markdown",
   "metadata": {},
   "source": [
    "Drop rows containing nan"
   ]
  },
  {
   "cell_type": "code",
   "execution_count": 64,
   "metadata": {},
   "outputs": [
    {
     "data": {
      "text/plain": [
       "(11521, 31)"
      ]
     },
     "execution_count": 64,
     "metadata": {},
     "output_type": "execute_result"
    }
   ],
   "source": [
    "df = df.dropna(axis = 0)\n",
    "df.shape"
   ]
  },
  {
   "cell_type": "markdown",
   "metadata": {},
   "source": [
    "# Fit and cross validation"
   ]
  },
  {
   "cell_type": "code",
   "execution_count": 65,
   "metadata": {},
   "outputs": [
    {
     "data": {
      "text/plain": [
       "array([[0., 0., 0., 0., 0., 0., 0., 0., 0., 0., 0., 0., 0., 0., 0., 0.,\n",
       "        0., 0., 0., 0., 0., 0., 0., 0., 0., 0., 0., 0., 0., 0., 0.]])"
      ]
     },
     "execution_count": 65,
     "metadata": {},
     "output_type": "execute_result"
    }
   ],
   "source": [
    "from sklearn.linear_model import LogisticRegression\n",
    "\n",
    "model = LogisticRegression()\n",
    "model.fit(df,y)\n",
    "\n",
    "model.coef_"
   ]
  },
  {
   "cell_type": "markdown",
   "metadata": {},
   "source": [
    "This did not work. To get the regression to convergence, the features are scaled."
   ]
  },
  {
   "cell_type": "code",
   "execution_count": 66,
   "metadata": {},
   "outputs": [
    {
     "data": {
      "text/plain": [
       "(11521, 30)"
      ]
     },
     "execution_count": 66,
     "metadata": {},
     "output_type": "execute_result"
    }
   ],
   "source": [
    "from sklearn.preprocessing import StandardScaler\n",
    "\n",
    "scaler = StandardScaler()\n",
    "\n",
    "scaled_df = pd.DataFrame(scaler.fit_transform(df), columns=df.columns)\n",
    "scaled_df = scaled_df.dropna(axis=1)\n",
    "scaled_df.shape"
   ]
  },
  {
   "cell_type": "markdown",
   "metadata": {},
   "source": [
    "Retry fit"
   ]
  },
  {
   "cell_type": "code",
   "execution_count": 67,
   "metadata": {},
   "outputs": [
    {
     "data": {
      "text/plain": [
       "array([[ 0.03458831,  0.0034941 ,  0.77052332,  0.04293006, -0.39052505,\n",
       "         1.14037754,  0.0990966 ,  0.14291727, -0.0108498 ,  0.01807766,\n",
       "        -0.01318614, -0.14214012,  0.0219423 , -0.05526728,  0.08521502,\n",
       "         0.09003887, -0.39779827,  0.10157997, -0.10284163, -0.3241462 ,\n",
       "        -0.07902548, -0.0659901 ,  0.46133087,  0.26105425,  0.09932128,\n",
       "        -0.04621585,  0.11626639, -0.08822864,  0.07752927, -0.55528444]])"
      ]
     },
     "execution_count": 67,
     "metadata": {},
     "output_type": "execute_result"
    }
   ],
   "source": [
    "model.fit(scaled_df,y)\n",
    "model.coef_\n"
   ]
  },
  {
   "cell_type": "markdown",
   "metadata": {},
   "source": [
    "Now that we have achieved convergence we can properly crossvalidate this model."
   ]
  },
  {
   "cell_type": "code",
   "execution_count": 68,
   "metadata": {},
   "outputs": [
    {
     "data": {
      "image/png": "[encoded data removed]",
      "text/plain": [
       "<Figure size 1000x800 with 1 Axes>"
      ]
     },
     "metadata": {},
     "output_type": "display_data"
    },
    {
     "name": "stdout",
     "output_type": "stream",
     "text": [
      "\n",
      "Classification Report:\n",
      "              precision    recall  f1-score       support\n",
      "0              0.652044  0.621083  0.636187   5265.000000\n",
      "1              0.693360  0.721068  0.706942   6256.000000\n",
      "accuracy       0.675375  0.675375  0.675375      0.675375\n",
      "macro avg      0.672702  0.671075  0.671565  11521.000000\n",
      "weighted avg   0.674479  0.675375  0.674608  11521.000000\n",
      "\n",
      "Cross-validation Accuracy Scores: [0.67158351 0.69965278 0.67664931 0.66666667 0.66232639]\n",
      "Mean CV Accuracy: 0.6753757305977344\n",
      "Standard Deviation of CV Accuracy: 0.013049988754878051\n",
      "\n",
      "Detailed Cross-Validation Report:\n",
      "      Fold  Accuracy\n",
      "0        1  0.671584\n",
      "1        2  0.699653\n",
      "2        3  0.676649\n",
      "3        4  0.666667\n",
      "4        5  0.662326\n",
      "Mean  Mean  0.675376\n",
      "Std    Std  0.013050\n"
     ]
    }
   ],
   "source": [
    "import numpy as np\n",
    "import pandas as pd\n",
    "from sklearn.linear_model import LogisticRegressionCV\n",
    "from sklearn.model_selection import cross_val_score, cross_val_predict\n",
    "from sklearn.metrics import classification_report, roc_auc_score, roc_curve, auc\n",
    "import matplotlib.pyplot as plt\n",
    "\n",
    "X = scaled_df\n",
    "\n",
    "# Define the LogisticRegressionCV model\n",
    "log_reg_cv = LogisticRegressionCV(cv=5, random_state=42, max_iter=1000)\n",
    "\n",
    "# Perform cross-validation and get predictions\n",
    "y_pred_prob = cross_val_predict(log_reg_cv, X, y, cv=5, method='predict_proba')[:, 1]\n",
    "\n",
    "# Calculate ROC curve and AUC\n",
    "fpr, tpr, _ = roc_curve(y, y_pred_prob)\n",
    "roc_auc = auc(fpr, tpr)\n",
    "\n",
    "# Plot ROC curve\n",
    "plt.figure(figsize=(10, 8))\n",
    "plt.plot(fpr, tpr, color='darkorange', lw=2, label=f'ROC curve (AUC = {roc_auc:.4f})')\n",
    "plt.plot([0, 1], [0, 1], 'k--', lw=2)\n",
    "plt.xlim([0.0, 1.0])\n",
    "plt.ylim([0.0, 1.05])\n",
    "plt.xlabel('False Positive Rate')\n",
    "plt.ylabel('True Positive Rate')\n",
    "plt.title('Receiver Operating Characteristic (ROC) Curve')\n",
    "plt.legend(loc=\"lower right\")\n",
    "plt.grid(alpha=0.3)\n",
    "plt.show()\n",
    "plt.savefig(output)\n",
    "\n",
    "# Generate classification report\n",
    "y_pred_labels = cross_val_predict(log_reg_cv, X, y, cv=5)\n",
    "report = classification_report(y, y_pred_labels, output_dict=True)\n",
    "report_df = pd.DataFrame(report).transpose()\n",
    "\n",
    "# Display the classification report\n",
    "print(\"\\nClassification Report:\")\n",
    "print(report_df)\n",
    "\n",
    "# Get cross-validation scores (accuracy)\n",
    "cv_scores = cross_val_score(log_reg_cv, X, y, cv=5, scoring='accuracy')\n",
    "\n",
    "# Display cross-validation scores\n",
    "print(\"\\nCross-validation Accuracy Scores:\", cv_scores)\n",
    "print(\"Mean CV Accuracy:\", np.mean(cv_scores))\n",
    "print(\"Standard Deviation of CV Accuracy:\", np.std(cv_scores))\n",
    "\n",
    "# Generate a detailed cross-validation report\n",
    "cv_report = {\n",
    "    \"Fold\": list(range(1, 6)),\n",
    "    \"Accuracy\": cv_scores\n",
    "}\n",
    "\n",
    "cv_report_df = pd.DataFrame(cv_report)\n",
    "cv_report_df.loc[\"Mean\"] = [\"Mean\", np.mean(cv_scores)]\n",
    "cv_report_df.loc[\"Std\"] = [\"Std\", np.std(cv_scores)]\n",
    "\n",
    "print(\"\\nDetailed Cross-Validation Report:\")\n",
    "print(cv_report_df)\n"
   ]
  },
  {
   "cell_type": "code",
   "execution_count": null,
   "metadata": {},
   "outputs": [],
   "source": []
  },
  {
   "cell_type": "markdown",
   "metadata": {},
   "source": []
  }
 ],
 "metadata": {
  "kernelspec": {
   "display_name": "Python 3",
   "language": "python",
   "name": "python3"
  },
  "language_info": {
   "codemirror_mode": {
    "name": "ipython",
    "version": 3
   },
   "file_extension": ".py",
   "mimetype": "text/x-python",
   "name": "python",
   "nbconvert_exporter": "python",
   "pygments_lexer": "ipython3",
   "version": "3.11.3"
  }
 },
 "nbformat": 4,
 "nbformat_minor": 2
}
