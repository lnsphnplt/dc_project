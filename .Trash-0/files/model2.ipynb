{
 "cells": [
  {
   "cell_type": "code",
   "execution_count": 1,
   "id": "4c386955-34ee-4689-a6ab-494af8c30dad",
   "metadata": {},
   "outputs": [],
   "source": [
    "import sqlite3\n",
    "import pandas as pd\n",
    "from propy import PyPro\n",
    "from Bio.SeqUtils.ProtParam import ProteinAnalysis\n",
    "import time\n",
    "import numpy as np\n",
    "from tqdm import tqdm\n",
    "from multiprocessing import Pool, cpu_count\n",
    "import pandas as pd\n",
    "import numpy as np\n",
    "from sklearn.model_selection import train_test_split, GridSearchCV, cross_val_score\n",
    "from sklearn.preprocessing import MinMaxScaler\n",
    "from sklearn.svm import SVC\n",
    "from sklearn.decomposition import PCA\n",
    "from sklearn.feature_selection import SelectKBest, f_classif\n",
    "from sklearn.metrics import accuracy_score, classification_report, confusion_matrix\n",
    "\n",
    "\n"
   ]
  },
  {
   "cell_type": "code",
   "execution_count": 2,
   "id": "bb873a6f-c100-4a89-adcc-7179b0ab2fcd",
   "metadata": {},
   "outputs": [],
   "source": [
    "import sqlite3\n",
    "import pandas as pd\n",
    "con = sqlite3.connect(\"../unified_CD2.db\")\n",
    "cur = con.cursor()\n",
    "\n",
    "df = pd.read_sql_query(\"SELECT * FROM prod_desc\", con)\n",
    "df['AB'] = df['AB'].apply(lambda x: int.from_bytes(x, \"little\"))\n",
    "columns_to_drop = [\"index\", \"id\", \"name\", \"description\", \"OX\", \"source\", \"valid\"]\n",
    "df = df.drop(columns=columns_to_drop)\n",
    "df\n"
   ]
  },
  {
   "cell_type": "code",
   "execution_count": null,
   "id": "9d772a82-df1f-48fb-b4be-af203eafa247",
   "metadata": {},
   "outputs": [],
   "source": []
  },
  {
   "cell_type": "code",
   "execution_count": null,
   "id": "49fb8e92-ce86-40a2-a2af-82dd5f0f82bb",
   "metadata": {},
   "outputs": [],
   "source": []
  },
  {
   "cell_type": "code",
   "execution_count": null,
   "id": "4e724d83-f790-4c20-9fe2-6e285cc6c5eb",
   "metadata": {},
   "outputs": [],
   "source": []
  },
  {
   "cell_type": "code",
   "execution_count": 3,
   "id": "c256e71d-a1e2-4801-a109-03eee56a0fe0",
   "metadata": {},
   "outputs": [],
   "source": [
    "# split of data to target\n",
    "X = df.drop(columns=['AB',\"seq\"])\n",
    "y = df['AB']\n",
    "\n",
    "\n",
    "#Normalize the data\n",
    "scaler = MinMaxScaler()\n",
    "X_normalized = scaler.fit_transform(X)\n",
    "\n",
    "#Split the data into training and testing sets\n",
    "X_train, X_test, y_train, y_test = train_test_split(X_normalized, y, test_size=0.2, random_state=42)\n",
    "\n",
    "\n",
    "\n",
    "\n",
    "\n",
    "\n",
    "\n",
    "\n"
   ]
  },
  {
   "cell_type": "code",
   "execution_count": null,
   "id": "2d16c62b-7465-4042-afd3-048374d11045",
   "metadata": {},
   "outputs": [],
   "source": []
  },
  {
   "cell_type": "code",
   "execution_count": 4,
   "id": "7deb748a-b025-43dc-8a01-2dfa4b765b41",
   "metadata": {},
   "outputs": [],
   "source": [
    "\n"
   ]
  },
  {
   "cell_type": "code",
   "execution_count": 4,
   "id": "471864b7-dcec-482f-9c3c-849dce4faffd",
   "metadata": {},
   "outputs": [
    {
     "name": "stdout",
     "output_type": "stream",
     "text": [
      "Initial Model Accuracy: 0.7379929714955096\n",
      "Classification Report:\n",
      "              precision    recall  f1-score   support\n",
      "\n",
      "           0       0.70      0.74      0.72      1174\n",
      "           1       0.77      0.73      0.75      1387\n",
      "\n",
      "    accuracy                           0.74      2561\n",
      "   macro avg       0.74      0.74      0.74      2561\n",
      "weighted avg       0.74      0.74      0.74      2561\n",
      "\n",
      "Confusion Matrix:\n",
      "[[ 872  302]\n",
      " [ 369 1018]]\n",
      "Cross-Validation Scores: [0.73486328 0.72167969 0.73535156 0.7578125  0.73486328]\n",
      "Mean Cross-Validation Accuracy: 0.7369140625\n"
     ]
    }
   ],
   "source": [
    "# Initial Model Training and Evaluation(4 min)\n",
    "initial_model = SVC()\n",
    "\n",
    "# Fit the initial model\n",
    "initial_model.fit(X_train, y_train)\n",
    "\n",
    "# Evaluate initial model accuracy on the test set\n",
    "initial_model_accuracy = accuracy_score(y_test, initial_model.predict(X_test))\n",
    "print(\"Initial Model Accuracy:\", initial_model_accuracy)\n",
    "\n",
    "# Generate classification report\n",
    "y_pred_initial = initial_model.predict(X_test)\n",
    "print(\"Classification Report:\")\n",
    "print(classification_report(y_test, y_pred_initial))\n",
    "\n",
    "# Generate confusion matrix\n",
    "print(\"Confusion Matrix:\")\n",
    "print(confusion_matrix(y_test, y_pred_initial))\n",
    "\n",
    "# Perform cross-validation\n",
    "cv_score_initial = cross_val_score(initial_model, X_train, y_train, cv=5)\n",
    "\n",
    "\n",
    "# Print cross-validation scores\n",
    "print(\"Cross-Validation Scores:\", cv_score_initial)\n",
    "print(\"Mean Cross-Validation Accuracy:\", np.mean(cv_score_initial))\n"
   ]
  },
  {
   "cell_type": "code",
   "execution_count": 4,
   "id": "fd4e679a-460a-4525-a6fc-7c839f6bbfba",
   "metadata": {},
   "outputs": [],
   "source": [
    "from sklearn.feature_selection import VarianceThreshold\n",
    "\n",
    "# Remove constant features\n",
    "constant_filter = VarianceThreshold(threshold=0)\n",
    "X_train_nonconstant = constant_filter.fit_transform(X_train, y_train)\n",
    "X_test_nonconstant = constant_filter.transform(X_test)\n",
    "\n",
    "# Feature selection on non-constant features\n",
    "selector = SelectKBest(f_classif, k=75)\n",
    "X_train_selected = selector.fit_transform(X_train_nonconstant, y_train)\n",
    "X_test_selected = selector.transform(X_test_nonconstant)\n"
   ]
  },
  {
   "cell_type": "code",
   "execution_count": 5,
   "id": "9a2ebdf7-e19c-4694-b238-09fcbfdff689",
   "metadata": {},
   "outputs": [
    {
     "name": "stdout",
     "output_type": "stream",
     "text": [
      "Model Accuracy after Feature Selection (without cross-validation): 0.7516595080046856\n",
      "Classification Report:\n",
      "              precision    recall  f1-score   support\n",
      "\n",
      "           0       0.72      0.75      0.73      1174\n",
      "           1       0.78      0.75      0.77      1387\n",
      "\n",
      "    accuracy                           0.75      2561\n",
      "   macro avg       0.75      0.75      0.75      2561\n",
      "weighted avg       0.75      0.75      0.75      2561\n",
      "\n",
      "Confusion Matrix:\n",
      "[[ 879  295]\n",
      " [ 341 1046]]\n",
      "Cross-Validation Scores: [0.73583984 0.73339844 0.73242188 0.75488281 0.73925781]\n",
      "Mean Cross-Validation Accuracy: 0.73916015625\n"
     ]
    }
   ],
   "source": [
    "\n",
    "\n",
    "# Model Training and Evaluation after Feature Selection (2min)\n",
    "selected_model = SVC()\n",
    "\n",
    "# Perform cross-validation\n",
    "cv_scores = cross_val_score(selected_model, X_train_selected, y_train, cv=5)\n",
    "\n",
    "# Train the model\n",
    "selected_model.fit(X_train_selected, y_train)\n",
    "\n",
    "# Evaluate model accuracy\n",
    "selected_model_accuracy = accuracy_score(y_test, selected_model.predict(X_test_selected))\n",
    "print(\"Model Accuracy after Feature Selection (without cross-validation):\", selected_model_accuracy)\n",
    "\n",
    "# Generate classification report\n",
    "y_pred_selected = selected_model.predict(X_test_selected)\n",
    "print(\"Classification Report:\")\n",
    "print(classification_report(y_test, y_pred_selected))\n",
    "\n",
    "# Generate confusion matrix\n",
    "print(\"Confusion Matrix:\")\n",
    "print(confusion_matrix(y_test, y_pred_selected))\n",
    "\n",
    "# Print cross-validation scores\n",
    "print(\"Cross-Validation Scores:\", cv_scores)\n",
    "print(\"Mean Cross-Validation Accuracy:\", np.mean(cv_scores))\n"
   ]
  },
  {
   "cell_type": "code",
   "execution_count": null,
   "id": "024d729a-119e-4366-ac31-6ca43652ea67",
   "metadata": {},
   "outputs": [],
   "source": [
    "\n",
    "\n"
   ]
  },
  {
   "cell_type": "code",
   "execution_count": null,
   "id": "299cccf9-f20f-4fdc-9f41-126a0f93f1fc",
   "metadata": {},
   "outputs": [],
   "source": []
  },
  {
   "cell_type": "code",
   "execution_count": 5,
   "id": "6f275476-ca8a-453c-881c-2b21ca627de0",
   "metadata": {},
   "outputs": [],
   "source": [
    "import numpy as np\n",
    "from sklearn.decomposition import PCA\n",
    "\n",
    "# Perform PCA with explained variance threshold of 95%\n",
    "pca = PCA(n_components=0.95)\n",
    "X_train_pca = pca.fit_transform(X_train_selected)\n",
    "X_test_pca = pca.transform(X_test_selected)"
   ]
  },
  {
   "cell_type": "code",
   "execution_count": 22,
   "id": "e130d95d-2565-4924-9641-1857ed11dee7",
   "metadata": {},
   "outputs": [
    {
     "name": "stdout",
     "output_type": "stream",
     "text": [
      "Model Accuracy after PCA: 0.7126122608356111\n",
      "Classification Report:\n",
      "              precision    recall  f1-score   support\n",
      "\n",
      "           0       0.69      0.67      0.68      1174\n",
      "           1       0.73      0.75      0.74      1387\n",
      "\n",
      "    accuracy                           0.71      2561\n",
      "   macro avg       0.71      0.71      0.71      2561\n",
      "weighted avg       0.71      0.71      0.71      2561\n",
      "\n",
      "Confusion Matrix:\n",
      "[[ 791  383]\n",
      " [ 353 1034]]\n",
      "Cross-Validation Scores: [0.70166016 0.70019531 0.703125   0.72900391 0.71142578]\n",
      "Mean CV Accuracy: 0.70908203125\n",
      "Number of retained principal components: 8\n"
     ]
    }
   ],
   "source": [
    "\n",
    "\n",
    "\n",
    "\n",
    "#Model Training and Evaluation after PCA (10 min)\n",
    "pca_model = SVC()\n",
    "\n",
    "# Perform k-fold cross-validation\n",
    "cv_scores = cross_val_score(pca_model, X_train_pca, y_train, cv=5)\n",
    "\n",
    "\n",
    "# Fit the model on the entire training set\n",
    "pca_model.fit(X_train_pca, y_train)\n",
    "\n",
    "# Evaluate model accuracy on the test set\n",
    "pca_model_accuracy = accuracy_score(y_test, pca_model.predict(X_test_pca))\n",
    "print(\"Model Accuracy after PCA:\", pca_model_accuracy)\n",
    "\n",
    "# Step 1: Performance Metrics\n",
    "# Generate classification report\n",
    "y_pred = pca_model.predict(X_test_pca)\n",
    "print(\"Classification Report:\")\n",
    "print(classification_report(y_test, y_pred))\n",
    "\n",
    "# Generate confusion matrix\n",
    "print(\"Confusion Matrix:\")\n",
    "print(confusion_matrix(y_test, y_pred))\n",
    "\n",
    "# Print cross-validation scores\n",
    "print(\"Cross-Validation Scores:\", cv_scores)\n",
    "print(\"Mean CV Accuracy:\", cv_scores.mean())\n",
    "\n",
    "# Print out the number of retained principal components\n",
    "print(\"Number of retained principal components:\", pca.n_components_)\n"
   ]
  },
  {
   "cell_type": "code",
   "execution_count": 18,
   "id": "3b7fd5f1-8d0e-4ab2-98c4-2cccd822a22a",
   "metadata": {},
   "outputs": [],
   "source": [
    "\n"
   ]
  },
  {
   "cell_type": "code",
   "execution_count": null,
   "id": "035913c6-1bf3-4661-95b1-5092855ee27c",
   "metadata": {},
   "outputs": [],
   "source": [
    "# Hyperparameter Tuning (grid search) fpr pca data (15 min)\n",
    "param_grid = {'C': [0.1, 1, 10], 'gamma': [0.1, 0.01, 0.001], 'kernel': ['rbf','poly', 'sigmoid']}\n",
    "grid_search = GridSearchCV(SVC(), param_grid, cv=5)\n",
    "grid_search.fit(X_train_pca, y_train)\n",
    "\n",
    "# Get the best hyperparameters and kernel\n",
    "best_hyperparams = grid_search.best_params_\n",
    "print(\"Best Hyperparameters:\", best_hyperparams)\n",
    "\n",
    "# Evaluate best model accuracy\n",
    "best_model_accuracy = accuracy_score(y_test, grid_search.best_estimator_.predict(X_test_pca))\n",
    "print(\"Best Model Accuracy after Hyperparameter Tuning:\", best_model_accuracy)\n",
    "\n",
    "# Generate classification report for best model\n",
    "y_pred_best = grid_search.best_estimator_.predict(X_test_pca)\n",
    "print(\"Classification Report for Best Model:\")\n",
    "print(classification_report(y_test, y_pred_best))\n",
    "\n",
    "# Generate confusion matrix for best model\n",
    "print(\"Confusion Matrix for Best Model:\")\n",
    "print(confusion_matrix(y_test, y_pred_best))\n"
   ]
  },
  {
   "cell_type": "code",
   "execution_count": null,
   "id": "2a7834ed-2524-4ba0-b23d-7f95a1496fb4",
   "metadata": {},
   "outputs": [],
   "source": [
    "# Hyperparameter Tuning (grid search) for just feature selection (15 min)\n",
    "param_grid = {'C': [0.1, 1, 10], 'gamma': [0.1, 0.01, 0.001], 'kernel': ['rbf','poly', 'sigmoid']}\n",
    "grid_search = GridSearchCV(SVC(), param_grid, cv=5)\n",
    "grid_search.fit(X_train_selected, y_train)\n",
    "\n",
    "# Get the best hyperparameters and kernel\n",
    "best_hyperparams = grid_search.best_params_\n",
    "print(\"Best Hyperparameters:\", best_hyperparams)\n",
    "\n",
    "# Evaluate best model accuracy\n",
    "best_model_accuracy = accuracy_score(y_test, grid_search.best_estimator_.predict(X_test_selected))\n",
    "print(\"Best Model Accuracy after Hyperparameter Tuning:\", best_model_accuracy)\n",
    "\n",
    "# Generate classification report for best model\n",
    "y_pred_best = grid_search.best_estimator_.predict(X_test_selected)\n",
    "print(\"Classification Report for Best Model:\")\n",
    "print(classification_report(y_test, y_pred_best))\n",
    "\n",
    "# Generate confusion matrix for best model\n",
    "print(\"Confusion Matrix for Best Model:\")\n",
    "print(confusion_matrix(y_test, y_pred_best))\n"
   ]
  },
  {
   "cell_type": "code",
   "execution_count": 19,
   "id": "6909907f-fdaf-4feb-9808-678bcc49c6d2",
   "metadata": {},
   "outputs": [
    {
     "name": "stdout",
     "output_type": "stream",
     "text": [
      "Number of elements in the array: 10240\n"
     ]
    }
   ],
   "source": [
    "\n",
    "num_elements = len(X_train_selected)\n",
    "\n",
    "print(\"Number of elements in the array:\", num_elements)"
   ]
  },
  {
   "cell_type": "code",
   "execution_count": null,
   "id": "631a4183-f779-44c4-a8c0-c89520cccfb4",
   "metadata": {
    "scrolled": true
   },
   "outputs": [
    {
     "name": "stdout",
     "output_type": "stream",
     "text": [
      "|   iter    |  target   |   expC    | expgamma  |\n",
      "-------------------------------------------------\n"
     ]
    }
   ],
   "source": [
    "import numpy as np\n",
    "from bayes_opt import BayesianOptimization\n",
    "from sklearn.svm import SVC\n",
    "from sklearn.model_selection import cross_val_score, train_test_split\n",
    "from sklearn.metrics import accuracy_score, classification_report, confusion_matrix\n",
    "from sklearn.feature_selection import VarianceThreshold, SelectKBest, f_classif\n",
    "\n",
    "# Define the bounds of the search space\n",
    "pbounds = {'expC': (1, 4), 'expgamma': (-1, 3)}\n",
    "# Constants outside the objective function\n",
    "kernel = \"poly\"\n",
    "\n",
    "# Define the objective function to optimize\n",
    "def objective_function(expC, expgamma):\n",
    "    svm_model = SVC(C=10 **expC, gamma=10**expgamma, kernel=kernel)\n",
    "    cv_scores = cross_val_score(svm_model, X_train_selected, y_train, cv=5)\n",
    "    mean_cv_accuracy = np.mean(cv_scores)\n",
    "    \n",
    "    # Track optimization progress\n",
    "    print(f\"expC: {expC}, expgamma: {expgamma}, CV Accuracy: {mean_cv_accuracy}\")\n",
    "    \n",
    "    return mean_cv_accuracy\n",
    "\n",
    "# Initialize Bayesian optimization search\n",
    "bayes_search = BayesianOptimization(\n",
    "    f=objective_function,\n",
    "    pbounds=pbounds,\n",
    "    random_state=42  # Setting the random state for reproducibility\n",
    ")\n",
    "\n",
    "# Perform Bayesian optimization\n",
    "bayes_search.maximize(\n",
    "    init_points=2,  # Number of random points to sample before optimization\n",
    "    n_iter=10,      # Number of optimization iterations\n",
    ")\n",
    "\n",
    "# Get the best hyperparameters\n",
    "best_hyperparams = bayes_search.max['params']\n",
    "print(\"Best Hyperparameters:\", best_hyperparams)\n"
   ]
  },
  {
   "cell_type": "code",
   "execution_count": null,
   "id": "29f575ca-e1d6-4974-8d61-ae5000769bd6",
   "metadata": {},
   "outputs": [],
   "source": [
    "# Train the final model using the best hyperparameters\n",
    "best_kernel = 'poly'  # Polynomial kernel\n",
    "best_svm_model = SVC(C=10 ** best_hyperparams['expC'], gamma=10 ** best_hyperparams['expgamma'], kernel=kernel)\n",
    "best_svm_model.fit(X_train_selected, y_train)\n",
    "\n",
    "# Evaluate the final model\n",
    "cv_scores_final_model = cross_val_score(best_svm_model, X_train_selected, y_train, cv=5)\n",
    "accuracy_final_model = np.mean(cv_scores_final_model)\n",
    "\n",
    "# Generate classification report\n",
    "print(\"Classification Report:\")\n",
    "print(classification_report(y_test, y_pred))\n",
    "\n",
    "# Generate confusion matrix\n",
    "print(\"Confusion Matrix:\")\n",
    "print(confusion_matrix(y_test, y_pred))\n",
    "\n",
    "# Calculate and print accuracy on the test set\n",
    "test_accuracy = accuracy_score(y_test, y_pred)\n",
    "print(\"Accuracy on Test Set:\", test_accuracy)\n",
    "\n",
    "# Print accuracy of the final model after cross-validation\n",
    "print(\"Accuracy of Final Model after Cross-Validation:\", accuracy_final_model)"
   ]
  },
  {
   "cell_type": "code",
   "execution_count": null,
   "id": "86531212-7ae5-44f6-8616-fcc40657c866",
   "metadata": {},
   "outputs": [],
   "source": []
  },
  {
   "cell_type": "code",
   "execution_count": null,
   "id": "548f41b0-9999-48cb-afab-db4439fc1a13",
   "metadata": {},
   "outputs": [],
   "source": [
    "\n"
   ]
  },
  {
   "cell_type": "code",
   "execution_count": null,
   "id": "fa457ad0-a4bb-4742-af2b-3b0f9d233abd",
   "metadata": {},
   "outputs": [],
   "source": []
  }
 ],
 "metadata": {
  "kernelspec": {
   "display_name": "Python 3 (ipykernel)",
   "language": "python",
   "name": "python3"
  },
  "language_info": {
   "codemirror_mode": {
    "name": "ipython",
    "version": 3
   },
   "file_extension": ".py",
   "mimetype": "text/x-python",
   "name": "python",
   "nbconvert_exporter": "python",
   "pygments_lexer": "ipython3",
   "version": "3.11.9"
  }
 },
 "nbformat": 4,
 "nbformat_minor": 5
}
