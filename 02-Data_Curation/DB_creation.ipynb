{
 "cells": [
  {
   "cell_type": "markdown",
   "id": "52711e4d",
   "metadata": {
    "editable": true,
    "slideshow": {
     "slide_type": ""
    },
    "tags": []
   },
   "source": [
    "# Create SQLite database\n",
    "For better efficency in storing and a unfied db for all teammembers to use. Idea is to use this as a universal starting point for every analysis\n"
   ]
  },
  {
   "cell_type": "code",
   "execution_count": 1,
   "id": "1ff810ea",
   "metadata": {
    "editable": true,
    "execution": {
     "iopub.execute_input": "2024-05-17T14:07:23.526631Z",
     "iopub.status.busy": "2024-05-17T14:07:23.526295Z",
     "iopub.status.idle": "2024-05-17T14:07:25.275626Z",
     "shell.execute_reply": "2024-05-17T14:07:25.273538Z"
    },
    "slideshow": {
     "slide_type": ""
    },
    "tags": []
   },
   "outputs": [
    {
     "name": "stdout",
     "output_type": "stream",
     "text": [
      "/mnt/02-Data_Curation\n"
     ]
    },
    {
     "data": {
      "text/plain": [
       "13966"
      ]
     },
     "execution_count": 1,
     "metadata": {},
     "output_type": "execute_result"
    }
   ],
   "source": [
    "import sqlite3\n",
    "import pandas as pd\n",
    "import os\n",
    "\n",
    "if os.getenv(\"SNAKEMAKE_EXECUTION\"):\n",
    "    # Adjust paths for Snakemake execution\n",
    "    data_path = \"./01-Data_Extraction/data_pos_neg.csv\"\n",
    "    db_path = \"./02-Data_Curation/unified.db\"\n",
    "else:\n",
    "    # Adjust paths for local execution\n",
    "    data_path = \"../01-Data_Extraction/data_pos_neg.csv\"\n",
    "    db_path = \"unified.db\"\n",
    "\n",
    "# Creating empty data base\n",
    "con = sqlite3.connect(db_path)\n",
    "cur = con.cursor()\n",
    "\n",
    "\n",
    "df = pd.read_csv(data_path)\n",
    "\n",
    "\n",
    "\n",
    "# Write the data from pandas DataFrame to SQL table\n",
    "df.to_sql(\"initial\", con, if_exists='replace', index=False)"
   ]
  },
  {
   "cell_type": "markdown",
   "id": "82d566a8",
   "metadata": {},
   "source": [
    "# Validate no data was lost during transfer"
   ]
  },
  {
   "cell_type": "code",
   "execution_count": 2,
   "id": "732fae05",
   "metadata": {
    "execution": {
     "iopub.execute_input": "2024-05-17T14:07:25.281293Z",
     "iopub.status.busy": "2024-05-17T14:07:25.280739Z",
     "iopub.status.idle": "2024-05-17T14:07:25.303159Z",
     "shell.execute_reply": "2024-05-17T14:07:25.300835Z"
    }
   },
   "outputs": [
    {
     "name": "stdout",
     "output_type": "stream",
     "text": [
      "Found 13966 in csv files.\n",
      "Found 13966 in sqlite db.\n",
      "meaning that 100.0 % was transfered\n"
     ]
    },
    {
     "name": "stderr",
     "output_type": "stream",
     "text": [
      "/tmp/ipykernel_13/655335126.py:1: FutureWarning: Series.__getitem__ treating keys as positions is deprecated. In a future version, integer keys will always be treated as labels (consistent with DataFrame behavior). To access a value by position, use `ser.iloc[pos]`\n",
      "  amount_in_csv =  df.count()[0]\n"
     ]
    }
   ],
   "source": [
    "amount_in_csv =  df.count()[0]\n",
    "cur.execute(\"SELECT count(*) from initial;\")\n",
    "amount_in_db = cur.fetchone()[0]\n",
    "\n",
    "print(f\"Found {amount_in_csv} in csv files.\\nFound {amount_in_db} in sqlite db.\\nmeaning that {amount_in_db / amount_in_csv * 100} % was transfered\")"
   ]
  },
  {
   "cell_type": "code",
   "execution_count": null,
   "id": "b59424aa-ab39-4dc4-8266-f07346502b86",
   "metadata": {},
   "outputs": [],
   "source": []
  }
 ],
 "metadata": {
  "kernelspec": {
   "display_name": "Python 3 (ipykernel)",
   "language": "python",
   "name": "python3"
  },
  "language_info": {
   "codemirror_mode": {
    "name": "ipython",
    "version": 3
   },
   "file_extension": ".py",
   "mimetype": "text/x-python",
   "name": "python",
   "nbconvert_exporter": "python",
   "pygments_lexer": "ipython3",
   "version": "3.11.9"
  }
 },
 "nbformat": 4,
 "nbformat_minor": 5
}
