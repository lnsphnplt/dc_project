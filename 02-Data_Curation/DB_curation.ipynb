{
 "cells": [
  {
   "cell_type": "markdown",
   "metadata": {},
   "source": [
    "# DB creation\n",
    "This chapter converts the CSV data to a SQLite database"
   ]
  },
  {
   "cell_type": "code",
   "execution_count": 2,
   "metadata": {},
   "outputs": [
    {
     "data": {
      "text/plain": [
       "13966"
      ]
     },
     "execution_count": 2,
     "metadata": {},
     "output_type": "execute_result"
    }
   ],
   "source": [
    "import sqlite3\n",
    "import pandas as pd\n",
    "import os\n",
    "import warnings\n",
    "import re\n",
    "\n",
    "# Some future deprecation warnings. We use specified versions via the docker env. Meaning we can savly ignore them.\n",
    "warnings.filterwarnings('ignore')\n",
    "\n",
    "if os.getenv(\"SNAKEMAKE_EXECUTION\"):\n",
    "    # Adjust paths for Snakemake execution\n",
    "    data_path = \"./01-Data_Extraction/new_data_pos_neg.csv\"\n",
    "    db_path = \"./02-Data_Curation/unified.db\"\n",
    "else:\n",
    "    # Adjust paths for local execution\n",
    "    data_path = \"../01-Data_Extraction/new_data_pos_neg.csv\"\n",
    "    db_path = \"unified.db\"\n",
    "\n",
    "# Creating empty data base\n",
    "con = sqlite3.connect(db_path)\n",
    "cur = con.cursor()\n",
    "\n",
    "\n",
    "df = pd.read_csv(data_path)\n",
    "\n",
    "\n",
    "\n",
    "# Write the data from pandas DataFrame to SQL table\n",
    "df.to_sql(\"initial\", con, if_exists='replace', index=False)"
   ]
  },
  {
   "cell_type": "markdown",
   "metadata": {},
   "source": [
    "## Validate data import"
   ]
  },
  {
   "cell_type": "code",
   "execution_count": 3,
   "metadata": {},
   "outputs": [
    {
     "name": "stdout",
     "output_type": "stream",
     "text": [
      "Found 13966 in csv files.\n",
      "Found 13966 in sqlite db.\n",
      "meaning that 100.0 % was transfered\n"
     ]
    },
    {
     "name": "stderr",
     "output_type": "stream",
     "text": [
      "C:\\Users\\Etienne\\AppData\\Local\\Temp\\ipykernel_2860\\655335126.py:1: FutureWarning: Series.__getitem__ treating keys as positions is deprecated. In a future version, integer keys will always be treated as labels (consistent with DataFrame behavior). To access a value by position, use `ser.iloc[pos]`\n",
      "  amount_in_csv =  df.count()[0]\n"
     ]
    }
   ],
   "source": [
    "amount_in_csv =  df.count()[0]\n",
    "cur.execute(\"SELECT count(*) from initial;\")\n",
    "amount_in_db = cur.fetchone()[0]\n",
    "\n",
    "print(f\"Found {amount_in_csv} in csv files.\\nFound {amount_in_db} in sqlite db.\\nmeaning that {amount_in_db / amount_in_csv * 100} % was transfered\")"
   ]
  },
  {
   "cell_type": "markdown",
   "metadata": {},
   "source": [
    "# Data curation\n",
    "\n",
    "Goal: Process the data from the raw database to make it ready for data analysis. This new database will be called prod"
   ]
  },
  {
   "cell_type": "code",
   "execution_count": 4,
   "metadata": {},
   "outputs": [
    {
     "name": "stdout",
     "output_type": "stream",
     "text": [
      "Table 'prod' already exists.\n"
     ]
    }
   ],
   "source": [
    "if os.getenv(\"SNAKEMAKE_EXECUTION\"):\n",
    "    # Adjust paths for Snakemake execution\n",
    "    db_path = \"./02-Data_Curation/unified.db\"\n",
    "    db_path_new = \"./02-Data_Curation/unified-curated.db\"\n",
    "else:\n",
    "    # Adjust paths for local execution\n",
    "    db_path = \"unified.db\"\n",
    "    db_path_new = \"unified-curated.db\"\n",
    "\n",
    "\n",
    "con = sqlite3.connect(db_path)\n",
    "cur = con.cursor()\n",
    "\n",
    "# Enable REGEX for sqlite\n",
    "def regexp(expr, item):\n",
    "    reg = re.compile(expr)\n",
    "    return reg.search(item) is not None\n",
    "\n",
    "con.create_function(\"REGEXP\", 2, regexp)\n",
    "\n",
    "# Create new table and check for multiple executions\n",
    "cur.execute(\"SELECT name FROM sqlite_master WHERE type='table' AND name='prod'\")\n",
    "if not cur.fetchone():  # If the fetch returns None, table does not exist\n",
    "    cur.execute(\"CREATE TABLE prod AS SELECT * FROM initial\")\n",
    "    print(\"Table 'prod' created successfully.\")\n",
    "else:\n",
    "    cur.execute(\"DROP TABLE prod;\")\n",
    "    cur.execute(\"CREATE TABLE prod AS SELECT * FROM initial\")\n",
    "    print(\"Table 'prod' already exists.\")\n",
    "\n"
   ]
  },
  {
   "cell_type": "markdown",
   "metadata": {},
   "source": [
    "## Valid sequences\n",
    "\n",
    "Check wether sequence only contains valid amino acids and no whitespaces or any other letters not being valid AA's. For our current data set this might be a little over engineered as many of this checks are already done in the data extraction. However we decided to let theese checks stay here if we ever decide to incorporate data from other possibly more error prone sources."
   ]
  },
  {
   "cell_type": "code",
   "execution_count": 5,
   "metadata": {},
   "outputs": [
    {
     "data": {
      "text/html": [
       "<div>\n",
       "<style scoped>\n",
       "    .dataframe tbody tr th:only-of-type {\n",
       "        vertical-align: middle;\n",
       "    }\n",
       "\n",
       "    .dataframe tbody tr th {\n",
       "        vertical-align: top;\n",
       "    }\n",
       "\n",
       "    .dataframe thead th {\n",
       "        text-align: right;\n",
       "    }\n",
       "</style>\n",
       "<table border=\"1\" class=\"dataframe\">\n",
       "  <thead>\n",
       "    <tr style=\"text-align: right;\">\n",
       "      <th></th>\n",
       "      <th>id</th>\n",
       "      <th>name</th>\n",
       "      <th>AB</th>\n",
       "      <th>description</th>\n",
       "      <th>OX</th>\n",
       "      <th>dataset</th>\n",
       "      <th>seq</th>\n",
       "      <th>seq_len</th>\n",
       "    </tr>\n",
       "  </thead>\n",
       "  <tbody>\n",
       "  </tbody>\n",
       "</table>\n",
       "</div>"
      ],
      "text/plain": [
       "Empty DataFrame\n",
       "Columns: [id, name, AB, description, OX, dataset, seq, seq_len]\n",
       "Index: []"
      ]
     },
     "execution_count": 5,
     "metadata": {},
     "output_type": "execute_result"
    }
   ],
   "source": [
    "# This query checks if there are any symbols other the the valid aa code\n",
    "pd.read_sql_query(\"\"\"SELECT *\n",
    "                FROM prod\n",
    "                WHERE seq REGEXP '[^ARNDCEQGHILKMFPSTWYV]'; \n",
    "\"\"\", con)\n",
    " # WHERE seq REGEXP '[^ARNDCEQGHILKMFPSTWYV]'; to not include X\n",
    "\n"
   ]
  },
  {
   "cell_type": "markdown",
   "metadata": {},
   "source": [
    "Problems found in seq:\n",
    "* non capitalized letters\n",
    "* the letter X and B in seq\n",
    "\n",
    "This is from an earlier version where more of the data validation was performed here, before it was moved the data extraction part. We let it here as a safeguard to se if the other validation works\n",
    "\n"
   ]
  },
  {
   "cell_type": "markdown",
   "metadata": {},
   "source": [
    "# The other constraints\n",
    "Idea is to add a new col called valid. This either says yes or no including the reason why not."
   ]
  },
  {
   "cell_type": "code",
   "execution_count": 6,
   "metadata": {},
   "outputs": [
    {
     "data": {
      "text/plain": [
       "<sqlite3.Cursor at 0x2fbbf163340>"
      ]
     },
     "execution_count": 6,
     "metadata": {},
     "output_type": "execute_result"
    }
   ],
   "source": [
    "# create col\n",
    "cur.execute(\"\"\"\n",
    "ALTER TABLE initial\n",
    "ADD COLUMN valid TEXT DEFAULT 'yes';\n",
    "\"\"\")\n",
    "\n",
    "# update col\n",
    "cur.execute(\"\"\"\n",
    "UPDATE initial\n",
    "SET valid = CASE \n",
    "    WHEN AB NOT IN (0, 1) THEN 'Invalid AB value'\n",
    "    WHEN dataset IS NULL THEN 'Dataset is null'\n",
    "    WHEN LENGTH(seq) < 1 OR LENGTH(seq) > 200 THEN 'Invalid seq length'\n",
    "    WHEN seq REGEXP '^[ARNDCEQGHILKMFPSTWYV]+$' THEN valid\n",
    "    ELSE 'Invalid sequence characters'\n",
    "END;\n",
    "\"\"\")\n",
    "\n",
    "# uniqueness check\n",
    "cur.execute(\"\"\"\n",
    "UPDATE initial\n",
    "SET valid = 'Seq must be unique'\n",
    "WHERE rowid NOT IN (\n",
    "    SELECT MIN(rowid)\n",
    "    FROM initial\n",
    "    GROUP BY seq\n",
    ");\n",
    "\"\"\")\n"
   ]
  },
  {
   "cell_type": "markdown",
   "metadata": {},
   "source": [
    "# Duplicates\n",
    "Before we just reject all duplicates we need to check wether they are true duplicates meaning if they are stemming from multiple datasets or just technical replicates.\n",
    "\n",
    "Definition used here:\n",
    "\n",
    "**technical duplicate:** if dataset and seq is a duplicate -\n",
    "\n",
    "**true duplicate:** if only seq is a duplicate but sources state the same AB\n",
    "\n",
    "**contradictory duplicate** matching seq different source and different AB "
   ]
  },
  {
   "cell_type": "code",
   "execution_count": 8,
   "metadata": {},
   "outputs": [
    {
     "data": {
      "text/html": [
       "<div>\n",
       "<style scoped>\n",
       "    .dataframe tbody tr th:only-of-type {\n",
       "        vertical-align: middle;\n",
       "    }\n",
       "\n",
       "    .dataframe tbody tr th {\n",
       "        vertical-align: top;\n",
       "    }\n",
       "\n",
       "    .dataframe thead th {\n",
       "        text-align: right;\n",
       "    }\n",
       "</style>\n",
       "<table border=\"1\" class=\"dataframe\">\n",
       "  <thead>\n",
       "    <tr style=\"text-align: right;\">\n",
       "      <th></th>\n",
       "      <th>COUNT(*)</th>\n",
       "      <th>valid</th>\n",
       "    </tr>\n",
       "  </thead>\n",
       "  <tbody>\n",
       "    <tr>\n",
       "      <th>0</th>\n",
       "      <td>1138</td>\n",
       "      <td>technical replicate</td>\n",
       "    </tr>\n",
       "    <tr>\n",
       "      <th>1</th>\n",
       "      <td>12828</td>\n",
       "      <td>yes</td>\n",
       "    </tr>\n",
       "  </tbody>\n",
       "</table>\n",
       "</div>"
      ],
      "text/plain": [
       "   COUNT(*)                valid\n",
       "0      1138  technical replicate\n",
       "1     12828                  yes"
      ]
     },
     "execution_count": 8,
     "metadata": {},
     "output_type": "execute_result"
    }
   ],
   "source": [
    "def identify_duplicates():   \n",
    "    # Step 1: Identify Technical Replicates\n",
    "    cur.execute(\"\"\"\n",
    "    UPDATE initial\n",
    "    SET valid = 'technical replicate'\n",
    "    WHERE seq IN (\n",
    "        SELECT seq\n",
    "        FROM initial\n",
    "        GROUP BY seq, dataset\n",
    "        HAVING COUNT(*) > 1\n",
    "    );\n",
    "    \"\"\")\n",
    "    \n",
    "    # Step 2: Identify Duplicates (same seq, multiple datasets, same AB)\n",
    "    cur.execute(\"\"\"\n",
    "    UPDATE initial\n",
    "    SET valid = 'duplicate'\n",
    "    WHERE seq IN (\n",
    "        SELECT seq\n",
    "        FROM initial\n",
    "        GROUP BY seq, AB\n",
    "        HAVING COUNT(DISTINCT dataset) > 1\n",
    "    ) AND valid != 'technical replicate';\n",
    "    \"\"\")\n",
    "    \n",
    "    # Step 3: Identify Contradictory Duplicates (same seq, different AB in different datasets)\n",
    "    cur.execute(\"\"\"\n",
    "    UPDATE initial\n",
    "    SET valid = 'contradictory duplicate'\n",
    "    WHERE seq IN (\n",
    "        SELECT seq\n",
    "        FROM initial\n",
    "        GROUP BY seq\n",
    "        HAVING COUNT(DISTINCT AB) > 1 AND COUNT(DISTINCT dataset) > 1\n",
    "    ) AND valid NOT IN ('technical replicate', 'duplicate');\n",
    "    \"\"\")\n",
    "\n",
    "\n",
    "identify_duplicates()\n",
    "#pd.read_sql_query(\"SELECT * FROM initial WHERE valid = 'contradictory duplicate' ORDER BY seq;\", con).to_excel(\"contradictions.xlsx\")\n",
    "pd.read_sql_query(\"SELECT COUNT(*), valid FROM initial GROUP BY valid\", con)"
   ]
  },
  {
   "cell_type": "markdown",
   "metadata": {},
   "source": [
    "# Adressing contradictory duplicates\n",
    "Theese stem from negative data sources (i.e uniprot). We can reject the ones from uniprot."
   ]
  },
  {
   "cell_type": "code",
   "execution_count": 9,
   "metadata": {},
   "outputs": [
    {
     "data": {
      "text/html": [
       "<div>\n",
       "<style scoped>\n",
       "    .dataframe tbody tr th:only-of-type {\n",
       "        vertical-align: middle;\n",
       "    }\n",
       "\n",
       "    .dataframe tbody tr th {\n",
       "        vertical-align: top;\n",
       "    }\n",
       "\n",
       "    .dataframe thead th {\n",
       "        text-align: right;\n",
       "    }\n",
       "</style>\n",
       "<table border=\"1\" class=\"dataframe\">\n",
       "  <thead>\n",
       "    <tr style=\"text-align: right;\">\n",
       "      <th></th>\n",
       "      <th>COUNT(*)</th>\n",
       "      <th>valid</th>\n",
       "    </tr>\n",
       "  </thead>\n",
       "  <tbody>\n",
       "    <tr>\n",
       "      <th>0</th>\n",
       "      <td>1138</td>\n",
       "      <td>technical replicate</td>\n",
       "    </tr>\n",
       "    <tr>\n",
       "      <th>1</th>\n",
       "      <td>12828</td>\n",
       "      <td>yes</td>\n",
       "    </tr>\n",
       "  </tbody>\n",
       "</table>\n",
       "</div>"
      ],
      "text/plain": [
       "   COUNT(*)                valid\n",
       "0      1138  technical replicate\n",
       "1     12828                  yes"
      ]
     },
     "execution_count": 9,
     "metadata": {},
     "output_type": "execute_result"
    }
   ],
   "source": [
    "cur.execute(\"\"\"\n",
    "UPDATE initial\n",
    "SET AB = 1\n",
    "WHERE dataset = 'uniprot_swissprot.fasta' AND valid = 'contradictory duplicate';\n",
    "\"\"\")\n",
    "\n",
    "identify_duplicates()\n",
    "pd.read_sql_query(\"SELECT COUNT(*), valid FROM initial GROUP BY valid\", con)"
   ]
  },
  {
   "cell_type": "markdown",
   "metadata": {},
   "source": [
    "# Adressing Invalid sequences and technical duplicates\n",
    "we just remove them.\n"
   ]
  },
  {
   "cell_type": "code",
   "execution_count": 10,
   "metadata": {},
   "outputs": [
    {
     "data": {
      "text/html": [
       "<div>\n",
       "<style scoped>\n",
       "    .dataframe tbody tr th:only-of-type {\n",
       "        vertical-align: middle;\n",
       "    }\n",
       "\n",
       "    .dataframe tbody tr th {\n",
       "        vertical-align: top;\n",
       "    }\n",
       "\n",
       "    .dataframe thead th {\n",
       "        text-align: right;\n",
       "    }\n",
       "</style>\n",
       "<table border=\"1\" class=\"dataframe\">\n",
       "  <thead>\n",
       "    <tr style=\"text-align: right;\">\n",
       "      <th></th>\n",
       "      <th>COUNT(*)</th>\n",
       "      <th>valid</th>\n",
       "    </tr>\n",
       "  </thead>\n",
       "  <tbody>\n",
       "    <tr>\n",
       "      <th>0</th>\n",
       "      <td>12828</td>\n",
       "      <td>yes</td>\n",
       "    </tr>\n",
       "  </tbody>\n",
       "</table>\n",
       "</div>"
      ],
      "text/plain": [
       "   COUNT(*) valid\n",
       "0     12828   yes"
      ]
     },
     "execution_count": 10,
     "metadata": {},
     "output_type": "execute_result"
    }
   ],
   "source": [
    "cur.execute(\"\"\"\n",
    "DELETE FROM initial\n",
    "WHERE NOT seq REGEXP '^[ARNDCEQGHILKMFPSTWYV]+$' OR valid = 'technical replicate';\n",
    "\"\"\")\n",
    "\n",
    "identify_duplicates()\n",
    "pd.read_sql_query(\"SELECT COUNT(*), valid FROM initial GROUP BY valid\", con)"
   ]
  },
  {
   "cell_type": "markdown",
   "metadata": {},
   "source": [
    "# Merge duplicates\n",
    "To remove the duplicates but keep the information we will merge theese rows containing the duplicates.\n",
    "\n",
    "From here on we will work with a new table which enforces data integrity. The table enforces the folloing conditions:\n",
    "\n",
    "\n",
    " * only valid amino acid seq\n",
    " * AB only being 0 or 1\n",
    " * AB cant bo 0\n",
    " * dataset must not be null\n",
    " * seq length between 1 and 200\n",
    " * seq must be unique and not null\n",
    "\n",
    "I have decided to designate seq as database keys. This enforces uniqueness, non nullabilty and improves lookup performance."
   ]
  },
  {
   "cell_type": "code",
   "execution_count": 11,
   "metadata": {},
   "outputs": [
    {
     "data": {
      "text/html": [
       "<div>\n",
       "<style scoped>\n",
       "    .dataframe tbody tr th:only-of-type {\n",
       "        vertical-align: middle;\n",
       "    }\n",
       "\n",
       "    .dataframe tbody tr th {\n",
       "        vertical-align: top;\n",
       "    }\n",
       "\n",
       "    .dataframe thead th {\n",
       "        text-align: right;\n",
       "    }\n",
       "</style>\n",
       "<table border=\"1\" class=\"dataframe\">\n",
       "  <thead>\n",
       "    <tr style=\"text-align: right;\">\n",
       "      <th></th>\n",
       "      <th>id</th>\n",
       "      <th>name</th>\n",
       "      <th>AB</th>\n",
       "      <th>description</th>\n",
       "      <th>OX</th>\n",
       "      <th>dataset</th>\n",
       "      <th>seq</th>\n",
       "      <th>seq_len</th>\n",
       "      <th>valid</th>\n",
       "    </tr>\n",
       "  </thead>\n",
       "  <tbody>\n",
       "  </tbody>\n",
       "</table>\n",
       "</div>"
      ],
      "text/plain": [
       "Empty DataFrame\n",
       "Columns: [id, name, AB, description, OX, dataset, seq, seq_len, valid]\n",
       "Index: []"
      ]
     },
     "execution_count": 11,
     "metadata": {},
     "output_type": "execute_result"
    }
   ],
   "source": [
    "pd.read_sql_query(\"SELECT * FROM  initial WHERE valid = 'duplicate' ORDER BY seq LIMIT 4;\", con)"
   ]
  },
  {
   "cell_type": "code",
   "execution_count": 12,
   "metadata": {},
   "outputs": [
    {
     "data": {
      "text/plain": [
       "<sqlite3.Cursor at 0x2fbbf163340>"
      ]
     },
     "execution_count": 12,
     "metadata": {},
     "output_type": "execute_result"
    }
   ],
   "source": [
    "# Step 1: Create a new table for the merged results\n",
    "try: \n",
    "    cur.execute(\"\"\" DROP TABLE prod; \"\"\")\n",
    "except Exception as e:\n",
    "    print(\"\")\n",
    "\n",
    "cur.execute(\"\"\"\n",
    "CREATE TABLE IF NOT EXISTS prod (\n",
    "    id TEXT,\n",
    "    name TEXT,\n",
    "    AB INTEGER NOT NULL CHECK (AB IN (0, 1)),\n",
    "    description TEXT,\n",
    "    OX TEXT,\n",
    "    source TEXT NOT NULL,\n",
    "    seq TEXT PRIMARY KEY CHECK (seq = UPPER(seq) AND seq REGEXP '^[ARNDCEQGHILKMFPSTWYV]+$'),\n",
    "    valid TEXT\n",
    ");\n",
    "\"\"\")\n",
    "\n",
    "\n",
    "\n",
    "# Step 2: Insert aggregated data into the new table INSERT INTO prod(id, name, AB, description, OX, source, seq, valid)\n",
    "cur.execute(\"\"\"\n",
    "INSERT INTO prod(id, name, AB, description, OX, source, seq, valid)\n",
    "SELECT \n",
    "    GROUP_CONCAT(id, '; ') AS id,\n",
    "    GROUP_CONCAT(name, '; ') AS name,\n",
    "    AB,\n",
    "    GROUP_CONCAT(description, '; ') AS description,\n",
    "    GROUP_CONCAT(OX, '; ') AS OX,\n",
    "    GROUP_CONCAT(dataset, '; ') AS source,\n",
    "    UPPER(seq) AS seq,\n",
    "    'yes - merged duplicate' AS valid\n",
    "FROM initial\n",
    "WHERE valid = 'duplicate' AND seq REGEXP '^[ARNDCEQGHILKMFPSTWYV]+$'\n",
    "GROUP BY seq;\n",
    "\"\"\")"
   ]
  },
  {
   "cell_type": "code",
   "execution_count": 13,
   "metadata": {},
   "outputs": [
    {
     "data": {
      "text/html": [
       "<div>\n",
       "<style scoped>\n",
       "    .dataframe tbody tr th:only-of-type {\n",
       "        vertical-align: middle;\n",
       "    }\n",
       "\n",
       "    .dataframe tbody tr th {\n",
       "        vertical-align: top;\n",
       "    }\n",
       "\n",
       "    .dataframe thead th {\n",
       "        text-align: right;\n",
       "    }\n",
       "</style>\n",
       "<table border=\"1\" class=\"dataframe\">\n",
       "  <thead>\n",
       "    <tr style=\"text-align: right;\">\n",
       "      <th></th>\n",
       "      <th>id</th>\n",
       "      <th>name</th>\n",
       "      <th>AB</th>\n",
       "      <th>description</th>\n",
       "      <th>OX</th>\n",
       "      <th>source</th>\n",
       "      <th>seq</th>\n",
       "      <th>valid</th>\n",
       "    </tr>\n",
       "  </thead>\n",
       "  <tbody>\n",
       "  </tbody>\n",
       "</table>\n",
       "</div>"
      ],
      "text/plain": [
       "Empty DataFrame\n",
       "Columns: [id, name, AB, description, OX, source, seq, valid]\n",
       "Index: []"
      ]
     },
     "execution_count": 13,
     "metadata": {},
     "output_type": "execute_result"
    }
   ],
   "source": [
    "pd.read_sql_query(\"SELECT * FROM  prod;\", con)"
   ]
  },
  {
   "cell_type": "markdown",
   "metadata": {},
   "source": [
    "830 duplicates successfully merged into 415 concatenated rows.\n",
    "\n",
    "# Merge the rest\n",
    "\n",
    "Add valid sequences into valid\n"
   ]
  },
  {
   "cell_type": "code",
   "execution_count": 14,
   "metadata": {},
   "outputs": [
    {
     "data": {
      "text/html": [
       "<div>\n",
       "<style scoped>\n",
       "    .dataframe tbody tr th:only-of-type {\n",
       "        vertical-align: middle;\n",
       "    }\n",
       "\n",
       "    .dataframe tbody tr th {\n",
       "        vertical-align: top;\n",
       "    }\n",
       "\n",
       "    .dataframe thead th {\n",
       "        text-align: right;\n",
       "    }\n",
       "</style>\n",
       "<table border=\"1\" class=\"dataframe\">\n",
       "  <thead>\n",
       "    <tr style=\"text-align: right;\">\n",
       "      <th></th>\n",
       "      <th>id</th>\n",
       "      <th>name</th>\n",
       "      <th>AB</th>\n",
       "      <th>description</th>\n",
       "      <th>OX</th>\n",
       "      <th>source</th>\n",
       "      <th>seq</th>\n",
       "      <th>valid</th>\n",
       "    </tr>\n",
       "  </thead>\n",
       "  <tbody>\n",
       "    <tr>\n",
       "      <th>0</th>\n",
       "      <td>ADAM_2177</td>\n",
       "      <td>InverPep_ADAM_2177</td>\n",
       "      <td>1</td>\n",
       "      <td>None</td>\n",
       "      <td>alien</td>\n",
       "      <td>InverPep.fasta</td>\n",
       "      <td>GLFNVFKGLKTAGKHVAGSLLNQLKCKVSGGC</td>\n",
       "      <td>yes</td>\n",
       "    </tr>\n",
       "    <tr>\n",
       "      <th>1</th>\n",
       "      <td>DBAASP13663</td>\n",
       "      <td>HistoneH2A(1-21),Fi-Histin</td>\n",
       "      <td>1</td>\n",
       "      <td>None</td>\n",
       "      <td>alien</td>\n",
       "      <td>InverPep.fasta</td>\n",
       "      <td>SRSSRAGLQFPVGRIHRLLRK</td>\n",
       "      <td>yes</td>\n",
       "    </tr>\n",
       "    <tr>\n",
       "      <th>2</th>\n",
       "      <td>DBAASP729</td>\n",
       "      <td>Histatin5(5-22)</td>\n",
       "      <td>1</td>\n",
       "      <td>None</td>\n",
       "      <td>alien</td>\n",
       "      <td>InverPep.fasta</td>\n",
       "      <td>KRHHGYKRKFHEKHHSHR</td>\n",
       "      <td>yes</td>\n",
       "    </tr>\n",
       "    <tr>\n",
       "      <th>3</th>\n",
       "      <td>DBAASP644</td>\n",
       "      <td>Gaegurin5(1-11)[F1W]</td>\n",
       "      <td>1</td>\n",
       "      <td>None</td>\n",
       "      <td>alien</td>\n",
       "      <td>InverPep.fasta</td>\n",
       "      <td>WLGALFKVASK</td>\n",
       "      <td>yes</td>\n",
       "    </tr>\n",
       "    <tr>\n",
       "      <th>4</th>\n",
       "      <td>ADAM_0664</td>\n",
       "      <td>InverPep_ADAM_0664</td>\n",
       "      <td>1</td>\n",
       "      <td>None</td>\n",
       "      <td>alien</td>\n",
       "      <td>InverPep.fasta</td>\n",
       "      <td>DLWNSIKDMAAAAGRAALNAVTGMVNQ</td>\n",
       "      <td>yes</td>\n",
       "    </tr>\n",
       "    <tr>\n",
       "      <th>...</th>\n",
       "      <td>...</td>\n",
       "      <td>...</td>\n",
       "      <td>...</td>\n",
       "      <td>...</td>\n",
       "      <td>...</td>\n",
       "      <td>...</td>\n",
       "      <td>...</td>\n",
       "      <td>...</td>\n",
       "    </tr>\n",
       "    <tr>\n",
       "      <th>12823</th>\n",
       "      <td>Q7M463</td>\n",
       "      <td>SCK6_MESMA</td>\n",
       "      <td>0</td>\n",
       "      <td>Neurotoxin BmK A3-6</td>\n",
       "      <td>Mesobuthus martensii OX=34649</td>\n",
       "      <td>uniprot_swissprot.fasta</td>\n",
       "      <td>LPYPVNCKTECECVMCGLGIICKQCYYQQ</td>\n",
       "      <td>yes</td>\n",
       "    </tr>\n",
       "    <tr>\n",
       "      <th>12824</th>\n",
       "      <td>Q7NSS5</td>\n",
       "      <td>Y3345_CHRVO</td>\n",
       "      <td>0</td>\n",
       "      <td>UPF0434 protein CV_3345</td>\n",
       "      <td>Chromobacterium violaceum (strain ATCC 12472 /...</td>\n",
       "      <td>uniprot_swissprot.fasta</td>\n",
       "      <td>MDAKFLEILVCPLCKGPLVFDKSKDELICKGDRLAFPIKDGIPMML...</td>\n",
       "      <td>yes</td>\n",
       "    </tr>\n",
       "    <tr>\n",
       "      <th>12825</th>\n",
       "      <td>Q8QHM9</td>\n",
       "      <td>Y56_SIRV1</td>\n",
       "      <td>0</td>\n",
       "      <td>Uncharacterized protein 56</td>\n",
       "      <td>Sulfolobus islandicus rod-shaped virus 1 OX=15...</td>\n",
       "      <td>uniprot_swissprot.fasta</td>\n",
       "      <td>MKKEIQVQGVRYYVESEDDLVSVAHELAKMGYTVQQIANALGVSER...</td>\n",
       "      <td>yes</td>\n",
       "    </tr>\n",
       "    <tr>\n",
       "      <th>12826</th>\n",
       "      <td>Q9R4N8</td>\n",
       "      <td>RL33_BREVE</td>\n",
       "      <td>0</td>\n",
       "      <td>Large ribosomal subunit protein bL33 (Fragment)</td>\n",
       "      <td>Brevundimonas vesicularis OX=41276 GN=rpmG</td>\n",
       "      <td>uniprot_swissprot.fasta</td>\n",
       "      <td>CKPASIKIRLNSTADTGFYV</td>\n",
       "      <td>yes</td>\n",
       "    </tr>\n",
       "    <tr>\n",
       "      <th>12827</th>\n",
       "      <td>Q9R4P1</td>\n",
       "      <td>RS21_BREVE</td>\n",
       "      <td>0</td>\n",
       "      <td>Small ribosomal subunit protein bS21 (Fragment)</td>\n",
       "      <td>Brevundimonas vesicularis OX=41276 GN=rpsU</td>\n",
       "      <td>uniprot_swissprot.fasta</td>\n",
       "      <td>VQIFVRDNNVDQALKALK</td>\n",
       "      <td>yes</td>\n",
       "    </tr>\n",
       "  </tbody>\n",
       "</table>\n",
       "<p>12828 rows × 8 columns</p>\n",
       "</div>"
      ],
      "text/plain": [
       "                id                        name  AB  \\\n",
       "0        ADAM_2177          InverPep_ADAM_2177   1   \n",
       "1      DBAASP13663  HistoneH2A(1-21),Fi-Histin   1   \n",
       "2        DBAASP729             Histatin5(5-22)   1   \n",
       "3        DBAASP644        Gaegurin5(1-11)[F1W]   1   \n",
       "4        ADAM_0664          InverPep_ADAM_0664   1   \n",
       "...            ...                         ...  ..   \n",
       "12823       Q7M463                  SCK6_MESMA   0   \n",
       "12824       Q7NSS5                 Y3345_CHRVO   0   \n",
       "12825       Q8QHM9                   Y56_SIRV1   0   \n",
       "12826       Q9R4N8                  RL33_BREVE   0   \n",
       "12827       Q9R4P1                  RS21_BREVE   0   \n",
       "\n",
       "                                            description  \\\n",
       "0                                                  None   \n",
       "1                                                  None   \n",
       "2                                                  None   \n",
       "3                                                  None   \n",
       "4                                                  None   \n",
       "...                                                 ...   \n",
       "12823                              Neurotoxin BmK A3-6    \n",
       "12824                          UPF0434 protein CV_3345    \n",
       "12825                       Uncharacterized protein 56    \n",
       "12826  Large ribosomal subunit protein bL33 (Fragment)    \n",
       "12827  Small ribosomal subunit protein bS21 (Fragment)    \n",
       "\n",
       "                                                      OX  \\\n",
       "0                                                  alien   \n",
       "1                                                  alien   \n",
       "2                                                  alien   \n",
       "3                                                  alien   \n",
       "4                                                  alien   \n",
       "...                                                  ...   \n",
       "12823                      Mesobuthus martensii OX=34649   \n",
       "12824  Chromobacterium violaceum (strain ATCC 12472 /...   \n",
       "12825  Sulfolobus islandicus rod-shaped virus 1 OX=15...   \n",
       "12826         Brevundimonas vesicularis OX=41276 GN=rpmG   \n",
       "12827         Brevundimonas vesicularis OX=41276 GN=rpsU   \n",
       "\n",
       "                        source  \\\n",
       "0               InverPep.fasta   \n",
       "1               InverPep.fasta   \n",
       "2               InverPep.fasta   \n",
       "3               InverPep.fasta   \n",
       "4               InverPep.fasta   \n",
       "...                        ...   \n",
       "12823  uniprot_swissprot.fasta   \n",
       "12824  uniprot_swissprot.fasta   \n",
       "12825  uniprot_swissprot.fasta   \n",
       "12826  uniprot_swissprot.fasta   \n",
       "12827  uniprot_swissprot.fasta   \n",
       "\n",
       "                                                     seq valid  \n",
       "0                       GLFNVFKGLKTAGKHVAGSLLNQLKCKVSGGC   yes  \n",
       "1                                  SRSSRAGLQFPVGRIHRLLRK   yes  \n",
       "2                                     KRHHGYKRKFHEKHHSHR   yes  \n",
       "3                                            WLGALFKVASK   yes  \n",
       "4                            DLWNSIKDMAAAAGRAALNAVTGMVNQ   yes  \n",
       "...                                                  ...   ...  \n",
       "12823                      LPYPVNCKTECECVMCGLGIICKQCYYQQ   yes  \n",
       "12824  MDAKFLEILVCPLCKGPLVFDKSKDELICKGDRLAFPIKDGIPMML...   yes  \n",
       "12825  MKKEIQVQGVRYYVESEDDLVSVAHELAKMGYTVQQIANALGVSER...   yes  \n",
       "12826                               CKPASIKIRLNSTADTGFYV   yes  \n",
       "12827                                 VQIFVRDNNVDQALKALK   yes  \n",
       "\n",
       "[12828 rows x 8 columns]"
      ]
     },
     "execution_count": 14,
     "metadata": {},
     "output_type": "execute_result"
    }
   ],
   "source": [
    "cur.execute(\"\"\"\n",
    "INSERT INTO prod\n",
    "SELECT id, name, AB, description, OX, dataset, seq, valid FROM initial\n",
    "WHERE valid = 'yes';\n",
    "\"\"\")\n",
    "\n",
    "pd.read_sql_query(\"SELECT * FROM  prod;\", con)"
   ]
  },
  {
   "cell_type": "markdown",
   "metadata": {},
   "source": [
    "# Final health check"
   ]
  },
  {
   "cell_type": "code",
   "execution_count": 15,
   "metadata": {},
   "outputs": [
    {
     "data": {
      "text/html": [
       "<div>\n",
       "<style scoped>\n",
       "    .dataframe tbody tr th:only-of-type {\n",
       "        vertical-align: middle;\n",
       "    }\n",
       "\n",
       "    .dataframe tbody tr th {\n",
       "        vertical-align: top;\n",
       "    }\n",
       "\n",
       "    .dataframe thead th {\n",
       "        text-align: right;\n",
       "    }\n",
       "</style>\n",
       "<table border=\"1\" class=\"dataframe\">\n",
       "  <thead>\n",
       "    <tr style=\"text-align: right;\">\n",
       "      <th></th>\n",
       "      <th>COUNT(*)</th>\n",
       "      <th>valid</th>\n",
       "    </tr>\n",
       "  </thead>\n",
       "  <tbody>\n",
       "    <tr>\n",
       "      <th>0</th>\n",
       "      <td>12828</td>\n",
       "      <td>yes</td>\n",
       "    </tr>\n",
       "  </tbody>\n",
       "</table>\n",
       "</div>"
      ],
      "text/plain": [
       "   COUNT(*) valid\n",
       "0     12828   yes"
      ]
     },
     "execution_count": 15,
     "metadata": {},
     "output_type": "execute_result"
    }
   ],
   "source": [
    "pd.read_sql_query(\"SELECT COUNT(*), valid FROM prod GROUP BY valid\", con)"
   ]
  },
  {
   "cell_type": "markdown",
   "metadata": {},
   "source": [
    "# Save and commit\n"
   ]
  },
  {
   "cell_type": "code",
   "execution_count": 16,
   "metadata": {},
   "outputs": [],
   "source": [
    "\n",
    "prod_con = sqlite3.connect(db_path_new)\n",
    "pd.read_sql_query(\"SELECT * FROM prod\", con).to_sql(\"prod\",prod_con, if_exists=\"replace\",)\n",
    "cur.execute(\"DROP TABLE prod\")\n",
    "prod_con.commit()\n",
    "prod_con.close()\n",
    "con.close()"
   ]
  }
 ],
 "metadata": {
  "kernelspec": {
   "display_name": "Python 3 (ipykernel)",
   "language": "python",
   "name": "python3"
  },
  "language_info": {
   "codemirror_mode": {
    "name": "ipython",
    "version": 3
   },
   "file_extension": ".py",
   "mimetype": "text/x-python",
   "name": "python",
   "nbconvert_exporter": "python",
   "pygments_lexer": "ipython3",
   "version": "3.11.3"
  }
 },
 "nbformat": 4,
 "nbformat_minor": 4
}
